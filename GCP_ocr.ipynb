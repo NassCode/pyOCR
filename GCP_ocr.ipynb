{
  "cells": [
    {
      "cell_type": "code",
      "execution_count": null,
      "metadata": {
        "colab": {
          "base_uri": "https://localhost:8080/"
        },
        "id": "_QTNc9TYKuDz",
        "outputId": "dc73a965-3171-4fc5-aed1-e47085f3a8ed"
      },
      "outputs": [],
      "source": [
        "!pip install google-cloud-vision"
      ]
    },
    {
      "cell_type": "code",
      "execution_count": 2,
      "metadata": {
        "id": "ANyMi2TkENk0"
      },
      "outputs": [],
      "source": [
        "import os\n",
        "\n",
        "os.environ[\"GOOGLE_APPLICATION_CREDENTIALS\"]=\"<YOUR CLIENT SERVICE KEY PATH>.json\"\n",
        "\n",
        "uri = \"<YOUR PIC URI>\"\n",
        "\n",
        "from google.cloud import vision"
      ]
    },
    {
      "cell_type": "code",
      "execution_count": 3,
      "metadata": {
        "id": "giLs4x7YEREt"
      },
      "outputs": [],
      "source": [
        "client = vision.ImageAnnotatorClient()\n",
        "image = vision.Image()\n",
        "image.source.image_uri = uri"
      ]
    },
    {
      "cell_type": "code",
      "execution_count": 4,
      "metadata": {
        "id": "JYfeT_wxiUeR"
      },
      "outputs": [],
      "source": [
        "response = client.text_detection(image=image,\n",
        "                                image_context={\"language_hints\": [\"en\"]})\n",
        "                                # emmet image_context for general detection\n",
        "                                #language_hints can be obtained from google vision api\n",
        "texts = response.text_annotations"
      ]
    },
    {
      "cell_type": "code",
      "execution_count": null,
      "metadata": {
        "colab": {
          "base_uri": "https://localhost:8080/"
        },
        "id": "IvkzWwEOLqwA",
        "outputId": "988b2764-735f-4efe-bad8-e89d8a2b0cfa"
      },
      "outputs": [],
      "source": [
        "vars(response)"
      ]
    },
    {
      "cell_type": "code",
      "execution_count": 6,
      "metadata": {
        "colab": {
          "base_uri": "https://localhost:8080/"
        },
        "id": "jVyiAeGBiW98",
        "outputId": "b8c2438f-83df-4f54-d4df-a04d25c97a08"
      },
      "outputs": [
        {
          "name": "stdout",
          "output_type": "stream",
          "text": [
            "\"Article 1\n",
            "All human beings are born free and equal in dignity and rights. They are endowed with\n",
            "reason and conscience and should act towards one another in a spirit of brotherhood.\"\n",
            "\"Article\"\n",
            "\"1\"\n",
            "\"All\"\n",
            "\"human\"\n",
            "\"beings\"\n",
            "\"are\"\n",
            "\"born\"\n",
            "\"free\"\n",
            "\"and\"\n",
            "\"equal\"\n",
            "\"in\"\n",
            "\"dignity\"\n",
            "\"and\"\n",
            "\"rights\"\n",
            "\".\"\n",
            "\"They\"\n",
            "\"are\"\n",
            "\"endowed\"\n",
            "\"with\"\n",
            "\"reason\"\n",
            "\"and\"\n",
            "\"conscience\"\n",
            "\"and\"\n",
            "\"should\"\n",
            "\"act\"\n",
            "\"towards\"\n",
            "\"one\"\n",
            "\"another\"\n",
            "\"in\"\n",
            "\"a\"\n",
            "\"spirit\"\n",
            "\"of\"\n",
            "\"brotherhood\"\n",
            "\".\"\n"
          ]
        }
      ],
      "source": [
        "x = []\n",
        " \n",
        "for text in texts:\n",
        "    print(f'\"{text.description}\"')\n",
        "    x.append(text.description)\n",
        " \n",
        "#     vertices = (['({},{})'.format(vertex.x, vertex.y)\n",
        "#                 for vertex in text.bounding_poly.vertices])\n",
        "#     print('bounds: {}'.format(','.join(vertices)))\n",
        " \n",
        "if response.error.message:\n",
        "    raise Exception(\n",
        "        '{}\\nFor more info on error messages, check: '\n",
        "        'https://cloud.google.com/apis/design/errors'.format(\n",
        "            response.error.message))"
      ]
    },
    {
      "cell_type": "code",
      "execution_count": 7,
      "metadata": {
        "id": "_bq_CAGnj4sl"
      },
      "outputs": [],
      "source": [
        "y = x[0]"
      ]
    },
    {
      "cell_type": "code",
      "execution_count": 8,
      "metadata": {
        "colab": {
          "base_uri": "https://localhost:8080/"
        },
        "id": "i8h_ySEFlWuc",
        "outputId": "1348ae68-665f-48b0-e63e-04197c7d944e"
      },
      "outputs": [
        {
          "name": "stdout",
          "output_type": "stream",
          "text": [
            "Article 1\n",
            "All human beings are born free and equal in dignity and rights. They are endowed with\n",
            "reason and conscience and should act towards one another in a spirit of brotherhood.\n"
          ]
        }
      ],
      "source": [
        "print(y)"
      ]
    },
    {
      "cell_type": "code",
      "execution_count": null,
      "metadata": {
        "id": "UEHdmSmplg3T"
      },
      "outputs": [],
      "source": []
    }
  ],
  "metadata": {
    "colab": {
      "collapsed_sections": [],
      "name": "GCP ocr.ipynb",
      "provenance": [],
      "toc_visible": true
    },
    "kernelspec": {
      "display_name": "Python 3",
      "name": "python3"
    },
    "language_info": {
      "name": "python"
    }
  },
  "nbformat": 4,
  "nbformat_minor": 0
}
